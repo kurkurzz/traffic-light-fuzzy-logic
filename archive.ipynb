{
 "cells": [
  {
   "cell_type": "code",
   "execution_count": 85,
   "id": "12a11d3a",
   "metadata": {},
   "outputs": [],
   "source": [
    "import traci\n",
    "import traci.constants as tc\n",
    "import os\n",
    "import sys\n",
    "import time"
   ]
  },
  {
   "cell_type": "code",
   "execution_count": 86,
   "id": "3096a131",
   "metadata": {},
   "outputs": [],
   "source": [
    "if 'SUMO_HOME' in os.environ:\n",
    "    tools = os.path.join(os.environ['SUMO_HOME'], 'tools')\n",
    "    sys.path.append(tools)\n",
    "else:\n",
    "    sys.exit(\"please declare environment variable 'SUMO_HOME'\")"
   ]
  },
  {
   "cell_type": "code",
   "execution_count": 87,
   "id": "690ddae8",
   "metadata": {},
   "outputs": [],
   "source": [
    "sumo_binary = r'C:\\Program Files (x86)\\Eclipse\\Sumo\\bin\\sumo-gui'\n",
    "sumo_cmd = [sumo_binary, '-c', 'traffic.sumocfg']"
   ]
  },
  {
   "cell_type": "code",
   "execution_count": 121,
   "id": "8e2f595f",
   "metadata": {},
   "outputs": [],
   "source": [
    "traci.close()"
   ]
  },
  {
   "cell_type": "code",
   "execution_count": 122,
   "id": "01539b3d",
   "metadata": {},
   "outputs": [
    {
     "data": {
      "text/plain": [
       "(20, 'SUMO 1.15.0')"
      ]
     },
     "execution_count": 122,
     "metadata": {},
     "output_type": "execute_result"
    }
   ],
   "source": [
    "traci.start(sumo_cmd)"
   ]
  },
  {
   "cell_type": "code",
   "execution_count": 123,
   "id": "460700ae",
   "metadata": {},
   "outputs": [],
   "source": [
    "def group_lanes_flow(lanes):\n",
    "    flow_lanes = {}\n",
    "    for lane in lanes:\n",
    "        flow_id_length = 2\n",
    "        if lane[0] == '-':\n",
    "            flow_id_length = 3\n",
    "        \n",
    "        if not lane[:flow_id_length] in flow_lanes:\n",
    "            flow_lanes[lane[:flow_id_length]] = {\n",
    "                'lanes': [lane]\n",
    "            }\n",
    "        else:\n",
    "            flow_lanes[lane[:flow_id_length]]['lanes'].append(lane)\n",
    "\n",
    "    return flow_lanes"
   ]
  },
  {
   "cell_type": "code",
   "execution_count": 124,
   "id": "acc5e6e4",
   "metadata": {},
   "outputs": [],
   "source": [
    "def get_vehicle_list(flow):\n",
    "    flow_vehicle_list = []\n",
    "    for lane in flow['lanes']:\n",
    "        vehicle_list = traci.lane.getLastStepVehicleIDs(lane)\n",
    "        flow_vehicle_list.extend(vehicle_list)\n",
    "        \n",
    "    return flow_vehicle_list"
   ]
  },
  {
   "cell_type": "code",
   "execution_count": 125,
   "id": "0bfa5299",
   "metadata": {},
   "outputs": [],
   "source": [
    "def count_vehicle_per_flow(flow):\n",
    "    total_vehicle = 0\n",
    "    for lane in flow['lanes']:\n",
    "        total_vehicle += traci.lane.getLastStepVehicleNumber(lane)\n",
    "        \n",
    "    return total_vehicle"
   ]
  },
  {
   "cell_type": "code",
   "execution_count": 127,
   "id": "0c532d2c",
   "metadata": {},
   "outputs": [],
   "source": [
    "# input: {'vehicle_id': waiting_time(int)}\n",
    "def calc_vehicle_waiting_time(vehicle_list_dict, vehicle_on_simulation):\n",
    "    for vehicle in vehicle_list_dict:\n",
    "        if vehicle in vehicle_on_simulation:\n",
    "            waiting_time = traci.vehicle.getAccumulatedWaitingTime(vehicle)\n",
    "            vehicle_list_dict[vehicle] = max(vehicle_list_dict[vehicle], waiting_time)\n",
    "            \n",
    "    return vehicle_list_dict"
   ]
  },
  {
   "cell_type": "code",
   "execution_count": 128,
   "id": "929b7d0a",
   "metadata": {},
   "outputs": [],
   "source": [
    "def calc_flow_stats(flow):\n",
    "#     avg_vehicle_per_minute = len(flow['vehicle_list'])\n",
    "    total_vehicle = len(flow['vehicle_list'])\n",
    "    total_waiting_time = 0\n",
    "    for vehicle in flow['vehicle_list']:\n",
    "        total_waiting_time += flow['vehicle_list'][vehicle]\n",
    "    avg_vehicle_waiting_time = total_waiting_time/total_vehicle\n",
    "    \n",
    "    return {\n",
    "        'total_vehicle': total_vehicle,\n",
    "        'total_waiting_time': total_waiting_time,\n",
    "        'avg_vehicle_waiting_time': avg_vehicle_waiting_time\n",
    "    }"
   ]
  },
  {
   "cell_type": "markdown",
   "id": "424a540a",
   "metadata": {},
   "source": [
    "## read traffic condition"
   ]
  },
  {
   "cell_type": "code",
   "execution_count": 75,
   "id": "2562b155",
   "metadata": {},
   "outputs": [],
   "source": [
    "tf_id = traci.trafficlight.getIDList()[0]\n",
    "lanes = traci.trafficlight.getControlledLanes(tf_id)\n",
    "# remove duplicates\n",
    "lanes = list(dict.fromkeys(lanes))\n",
    "# group lanes into same flow\n",
    "flow_lanes = group_lanes_flow(lanes)\n",
    "for flow in flow_lanes:\n",
    "    # create vehicle_list key if not exist yet\n",
    "    if 'vehicle_list' not in flow_lanes[flow]:\n",
    "        flow_lanes[flow]['vehicle_list'] = {}\n",
    "\n",
    "    # identify list of vehicles currently (current step) on the lanes\n",
    "    new_vehicle_list = get_vehicle_list(flow_lanes[flow])\n",
    "    # identify list of vehicles that already in the dict\n",
    "    exisiting_vehicle_list = list(flow_lanes[flow]['vehicle_list'].keys())\n",
    "    # new vehicle to add\n",
    "    new_vehicle_to_add = list(set(new_vehicle_list).difference(set(exisiting_vehicle_list)))\n",
    "    # add new vehicles (that does not exist in the dict yet) into the dict with initial waiting time value of 0\n",
    "    flow_lanes[flow]['vehicle_list'] = dict(list(flow_lanes[flow]['vehicle_list'].items()) + list(dict.fromkeys(new_vehicle_to_add, 0.0).items())) \n",
    "    # calculate waiting time for all vehicle in list\n",
    "    vehicle_on_simulation = traci.vehicle.getIDList()\n",
    "    flow_lanes[flow]['vehicle_list'] = calc_vehicle_waiting_time(flow_lanes[flow]['vehicle_list'], vehicle_on_simulation)"
   ]
  },
  {
   "cell_type": "markdown",
   "id": "b959ce6c",
   "metadata": {},
   "source": [
    "## Run the simulation"
   ]
  },
  {
   "cell_type": "code",
   "execution_count": null,
   "id": "7cda660f",
   "metadata": {},
   "outputs": [],
   "source": [
    "# run without value retrieval\n",
    "step = 0\n",
    "while step < 100:\n",
    "    traci.simulationStep()\n",
    "    lanes = traci.trafficlight.getControlledLanes('J3')\n",
    "    step += 1\n",
    "    time.sleep(0.0)"
   ]
  },
  {
   "cell_type": "code",
   "execution_count": 130,
   "id": "2dc83934",
   "metadata": {},
   "outputs": [],
   "source": [
    "# run this with value retrieval!\n",
    "tf_id = traci.trafficlight.getIDList()[0]\n",
    "lanes = traci.trafficlight.getControlledLanes(tf_id)\n",
    "# remove duplicates\n",
    "lanes = list(dict.fromkeys(lanes))\n",
    "# group lanes into same flow\n",
    "flow_lanes = group_lanes_flow(lanes)\n",
    "step = 0\n",
    "while step < 1000:\n",
    "    traci.simulationStep()\n",
    "    lanes = traci.trafficlight.getControlledLanes(tf_id)\n",
    "    step += 1\n",
    "    \n",
    "    for flow in flow_lanes:\n",
    "        # create vehicle_list key if not exist yet\n",
    "        if 'vehicle_list' not in flow_lanes[flow]:\n",
    "            flow_lanes[flow]['vehicle_list'] = {}\n",
    "\n",
    "        # identify list of vehicles currently (current step) on the lanes\n",
    "        new_vehicle_list = get_vehicle_list(flow_lanes[flow])\n",
    "        # identify list of vehicles that already in the dict\n",
    "        exisiting_vehicle_list = list(flow_lanes[flow]['vehicle_list'].keys())\n",
    "        # new vehicle to add\n",
    "        new_vehicle_to_add = list(set(new_vehicle_list).difference(set(exisiting_vehicle_list)))\n",
    "        # add new vehicles (that does not exist in the dict yet) into the dict with initial waiting time value of 0\n",
    "        flow_lanes[flow]['vehicle_list'] = dict(list(flow_lanes[flow]['vehicle_list'].items()) + list(dict.fromkeys(new_vehicle_to_add, 0.0).items())) \n",
    "        # calculate waiting time for all vehicle in list\n",
    "        vehicle_on_simulation = traci.vehicle.getIDList()\n",
    "        flow_lanes[flow]['vehicle_list'] = calc_vehicle_waiting_time(flow_lanes[flow]['vehicle_list'], vehicle_on_simulation)\n",
    "    \n",
    "#     if step % 10 == 0:\n",
    "#         print(flow_lanes['E0'])\n",
    "    time.sleep(0.01)\n",
    "\n",
    "for flow in flow_lanes:\n",
    "    stats = calc_flow_stats(flow_lanes[flow])\n",
    "    flow_lanes[flow]['stats'] = stats"
   ]
  },
  {
   "cell_type": "code",
   "execution_count": 139,
   "id": "105a3683",
   "metadata": {},
   "outputs": [
    {
     "data": {
      "text/plain": [
       "{'total_vehicle': 335,\n",
       " 'total_waiting_time': 4022.0,\n",
       " 'avg_vehicle_waiting_time': 12.00597014925373}"
      ]
     },
     "execution_count": 139,
     "metadata": {},
     "output_type": "execute_result"
    }
   ],
   "source": [
    "flow_lanes['E1']['stats']"
   ]
  },
  {
   "cell_type": "code",
   "execution_count": 111,
   "id": "14c40744",
   "metadata": {},
   "outputs": [],
   "source": [
    "traci.close()"
   ]
  },
  {
   "cell_type": "code",
   "execution_count": 104,
   "id": "f3a139c8",
   "metadata": {},
   "outputs": [
    {
     "data": {
      "text/plain": [
       "'rrrrGGGGgrrrrGGGGg'"
      ]
     },
     "execution_count": 104,
     "metadata": {},
     "output_type": "execute_result"
    }
   ],
   "source": [
    "traci.trafficlight.getRedYellowGreenState(tf_id)"
   ]
  },
  {
   "cell_type": "code",
   "execution_count": 112,
   "id": "829c6d59",
   "metadata": {},
   "outputs": [
    {
     "data": {
      "text/plain": [
       "Logic(programID='0', type=0, currentPhaseIndex=0, phases=(Phase(duration=42.0, state='rrrrGGGGgrrrrGGGGg', minDur=42.0, maxDur=42.0, next=()), Phase(duration=3.0, state='rrrryyyyyrrrryyyyy', minDur=3.0, maxDur=3.0, next=()), Phase(duration=42.0, state='GGGgrrrrrGGGgrrrrr', minDur=42.0, maxDur=42.0, next=()), Phase(duration=3.0, state='yyyyrrrrryyyyrrrrr', minDur=3.0, maxDur=3.0, next=())), subParameter={})"
      ]
     },
     "execution_count": 112,
     "metadata": {},
     "output_type": "execute_result"
    }
   ],
   "source": [
    "traci.trafficlight.getAllProgramLogics(tf_id)[0]"
   ]
  },
  {
   "cell_type": "code",
   "execution_count": 116,
   "id": "dce06c17",
   "metadata": {},
   "outputs": [
    {
     "name": "stdout",
     "output_type": "stream",
     "text": [
      "Phase(duration=42.0, state='rrrrGGGGgrrrrGGGGg', minDur=42.0, maxDur=42.0, next=())\n",
      "\n",
      "Phase(duration=3.0, state='rrrryyyyyrrrryyyyy', minDur=3.0, maxDur=3.0, next=())\n",
      "\n",
      "Phase(duration=42.0, state='GGGgrrrrrGGGgrrrrr', minDur=42.0, maxDur=42.0, next=())\n",
      "\n",
      "Phase(duration=3.0, state='yyyyrrrrryyyyrrrrr', minDur=3.0, maxDur=3.0, next=())\n",
      "\n"
     ]
    }
   ],
   "source": [
    "print(traci.trafficlight.getAllProgramLogics(tf_id)[0].phases[0])\n",
    "print()\n",
    "print(traci.trafficlight.getAllProgramLogics(tf_id)[0].phases[1])\n",
    "print()\n",
    "print(traci.trafficlight.getAllProgramLogics(tf_id)[0].phases[2])\n",
    "print()\n",
    "print(traci.trafficlight.getAllProgramLogics(tf_id)[0].phases[3])\n",
    "print()"
   ]
  },
  {
   "cell_type": "markdown",
   "id": "c306abf8",
   "metadata": {},
   "source": [
    "# Archive"
   ]
  },
  {
   "cell_type": "markdown",
   "id": "ae5680ec",
   "metadata": {},
   "source": [
    "## List of element in Traci\n",
    "- gui\n",
    "- lane\n",
    "- poi\n",
    "- simulation\n",
    "- trafficlight\n",
    "- vehicletype\n",
    "- edge\n",
    "- inductionloop\n",
    "- junction\n",
    "- multientryexit\n",
    "- polygon\n",
    "- route\n",
    "- person\n",
    "- vehicle"
   ]
  },
  {
   "cell_type": "code",
   "execution_count": 16,
   "id": "e869b97a",
   "metadata": {},
   "outputs": [
    {
     "data": {
      "text/plain": [
       "('J3',)"
      ]
     },
     "execution_count": 16,
     "metadata": {},
     "output_type": "execute_result"
    }
   ],
   "source": [
    "traci.trafficlight.getIDList()"
   ]
  },
  {
   "cell_type": "code",
   "execution_count": 7,
   "id": "5e1d1da5",
   "metadata": {},
   "outputs": [
    {
     "data": {
      "text/plain": [
       "':J3_18_0'"
      ]
     },
     "execution_count": 7,
     "metadata": {},
     "output_type": "execute_result"
    }
   ],
   "source": [
    "junctionID = traci.junction.getIDList()[0]\n",
    "junctionID"
   ]
  },
  {
   "cell_type": "code",
   "execution_count": 13,
   "id": "6e1c3f67",
   "metadata": {},
   "outputs": [
    {
     "data": {
      "text/plain": [
       "<traci._route.RouteDomain at 0x242f139ce20>"
      ]
     },
     "execution_count": 13,
     "metadata": {},
     "output_type": "execute_result"
    }
   ],
   "source": [
    "traci.route"
   ]
  },
  {
   "cell_type": "markdown",
   "id": "1e1d8fc0",
   "metadata": {},
   "source": [
    "https://github.com/LucasAlegre/sumo-rl/blob/master/sumo_rl/environment/traffic_signal.py"
   ]
  },
  {
   "cell_type": "code",
   "execution_count": 36,
   "id": "2e63729f",
   "metadata": {},
   "outputs": [],
   "source": [
    "# minimum gap between cars set by sumo\n",
    "MIN_GAP = 2.5"
   ]
  },
  {
   "cell_type": "code",
   "execution_count": 32,
   "id": "57c4c78c",
   "metadata": {},
   "outputs": [
    {
     "data": {
      "text/plain": [
       "('-E4_0',\n",
       " '-E4_0',\n",
       " '-E4_1',\n",
       " '-E4_1',\n",
       " 'E2_0',\n",
       " 'E2_0',\n",
       " 'E2_1',\n",
       " 'E2_2',\n",
       " 'E2_2',\n",
       " '-E3_0',\n",
       " '-E3_0',\n",
       " '-E3_1',\n",
       " '-E3_1',\n",
       " 'E1_0',\n",
       " 'E1_0',\n",
       " 'E1_1',\n",
       " 'E1_2',\n",
       " 'E1_2')"
      ]
     },
     "execution_count": 32,
     "metadata": {},
     "output_type": "execute_result"
    }
   ],
   "source": [
    "# get list of lanes controlled by the traffic light (incoming lanes)\n",
    "lanes = traci.trafficlight.getControlledLanes('J3')\n",
    "lanes"
   ]
  },
  {
   "cell_type": "code",
   "execution_count": 33,
   "id": "f70a6a28",
   "metadata": {},
   "outputs": [
    {
     "data": {
      "text/plain": [
       "[86.4,\n",
       " 86.4,\n",
       " 86.4,\n",
       " 86.4,\n",
       " 189.6,\n",
       " 189.6,\n",
       " 189.6,\n",
       " 189.6,\n",
       " 189.6,\n",
       " 86.4,\n",
       " 86.4,\n",
       " 86.4,\n",
       " 86.4,\n",
       " 189.6,\n",
       " 189.6,\n",
       " 189.6,\n",
       " 189.6,\n",
       " 189.6]"
      ]
     },
     "execution_count": 33,
     "metadata": {},
     "output_type": "execute_result"
    }
   ],
   "source": [
    "# get lane length\n",
    "[traci.lane.getLength(lane) for lane in lanes]"
   ]
  },
  {
   "cell_type": "code",
   "execution_count": 19,
   "id": "d9380add",
   "metadata": {},
   "outputs": [
    {
     "data": {
      "text/plain": [
       "[0, 0, 0, 0, 0, 0, 0, 0, 0, 0, 0, 0, 0, 0, 0, 0, 0, 0]"
      ]
     },
     "execution_count": 19,
     "metadata": {},
     "output_type": "execute_result"
    }
   ],
   "source": [
    "# get number of vehicles stop for the red light in the lane\n",
    "[traci.lane.getLastStepHaltingNumber(lane) for lane in lanes]"
   ]
  },
  {
   "cell_type": "code",
   "execution_count": 35,
   "id": "1cbd71f3",
   "metadata": {},
   "outputs": [
    {
     "data": {
      "text/plain": [
       "[5, 5, 2, 2, 8, 8, 2, 2, 2, 5, 5, 2, 2, 8, 8, 3, 2, 2]"
      ]
     },
     "execution_count": 35,
     "metadata": {},
     "output_type": "execute_result"
    }
   ],
   "source": [
    "# get number of vehicles in the lane\n",
    "[traci.lane.getLastStepVehicleNumber(lane) for lane in lanes]"
   ]
  },
  {
   "cell_type": "code",
   "execution_count": 38,
   "id": "2fd93af0",
   "metadata": {},
   "outputs": [
    {
     "data": {
      "text/plain": [
       "('f_2.34', 'f_2.33', 'f_2.32', 'f_2.30', 'f_2.28')"
      ]
     },
     "execution_count": 38,
     "metadata": {},
     "output_type": "execute_result"
    }
   ],
   "source": [
    "# get individual vehicle id\n",
    "traci.lane.getLastStepVehicleIDs(lanes[0])"
   ]
  },
  {
   "cell_type": "code",
   "execution_count": 49,
   "id": "c96629f0",
   "metadata": {},
   "outputs": [
    {
     "data": {
      "text/plain": [
       "0.0"
      ]
     },
     "execution_count": 49,
     "metadata": {},
     "output_type": "execute_result"
    }
   ],
   "source": [
    "# get individual vehicle waiting time, 0 if the car is on the move\n",
    "traci.vehicle.getAccumulatedWaitingTime('f_0.31')"
   ]
  },
  {
   "cell_type": "code",
   "execution_count": 37,
   "id": "6a8ba763",
   "metadata": {},
   "outputs": [
    {
     "data": {
      "text/plain": [
       "[5.0,\n",
       " 5.0,\n",
       " 5.0,\n",
       " 5.0,\n",
       " 5.0,\n",
       " 5.0,\n",
       " 5.0,\n",
       " 5.0,\n",
       " 5.0,\n",
       " 5.0,\n",
       " 5.0,\n",
       " 5.0,\n",
       " 5.0,\n",
       " 5.0,\n",
       " 5.0,\n",
       " 5.0,\n",
       " 5.0,\n",
       " 5.0]"
      ]
     },
     "execution_count": 37,
     "metadata": {},
     "output_type": "execute_result"
    }
   ],
   "source": [
    "# i think it's the car length\n",
    "[traci.lane.getLastStepLength(lane) for lane in lanes]"
   ]
  },
  {
   "cell_type": "code",
   "execution_count": 43,
   "id": "3ffb8422",
   "metadata": {},
   "outputs": [],
   "source": [
    "# get waiting time per lane\n",
    "def get_accumulated_waiting_time_per_lane(lane_id):\n",
    "    vehicle_list = traci.lane.getLastStepVehicleIDs(lane_id)\n",
    "    lane_waiting_time = 0.0\n",
    "    for vehicle in vehicle_list:\n",
    "        vehicle_lane = traci.vehicle.getLaneID(vehicle)\n",
    "        vehicle_waiting_time = traci.vehicle.getAccumulatedWaitingTime(vehicle)\n",
    "        \n",
    "        lane_waiting_time += vehicle_waiting_time\n",
    "        \n",
    "    return lane_waiting_time"
   ]
  },
  {
   "cell_type": "code",
   "execution_count": 48,
   "id": "cf4878f7",
   "metadata": {},
   "outputs": [
    {
     "name": "stdout",
     "output_type": "stream",
     "text": [
      "-E4_0: 9.0\n",
      "-E4_0: 9.0\n",
      "-E4_1: 4.0\n",
      "-E4_1: 4.0\n",
      "E2_0: 27.0\n",
      "E2_0: 27.0\n",
      "E2_1: 10.0\n",
      "E2_2: 0.0\n",
      "E2_2: 0.0\n",
      "-E3_0: 11.0\n",
      "-E3_0: 11.0\n",
      "-E3_1: 4.0\n",
      "-E3_1: 4.0\n",
      "E1_0: 23.0\n",
      "E1_0: 23.0\n",
      "E1_1: 12.0\n",
      "E1_2: 3.0\n",
      "E1_2: 3.0\n"
     ]
    }
   ],
   "source": [
    "for lane in lanes:\n",
    "    waiting_time = get_accumulated_waiting_time_per_lane(lane)\n",
    "    print(f'{lane}: {waiting_time}')"
   ]
  },
  {
   "cell_type": "code",
   "execution_count": null,
   "id": "0f48d43a",
   "metadata": {},
   "outputs": [],
   "source": [
    "lanes_queue = [self.sumo.lane.getLastStepHaltingNumber(lane) / (self.lanes_lenght[lane] / (self.MIN_GAP + self.sumo.lane.getLastStepLength(lane))) for lane in self.lanes]"
   ]
  }
 ],
 "metadata": {
  "kernelspec": {
   "display_name": "Python 3 (ipykernel)",
   "language": "python",
   "name": "python3"
  },
  "language_info": {
   "codemirror_mode": {
    "name": "ipython",
    "version": 3
   },
   "file_extension": ".py",
   "mimetype": "text/x-python",
   "name": "python",
   "nbconvert_exporter": "python",
   "pygments_lexer": "ipython3",
   "version": "3.8.10"
  }
 },
 "nbformat": 4,
 "nbformat_minor": 5
}
