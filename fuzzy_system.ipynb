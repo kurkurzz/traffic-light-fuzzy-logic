{
  "cells": [
    {
      "cell_type": "code",
      "execution_count": null,
      "metadata": {
        "collapsed": true,
        "id": "xL3PYAftfYkW"
      },
      "outputs": [],
      "source": [
        "import matplotlib as mpl\n",
        "import matplotlib.pyplot as plt"
      ]
    },
    {
      "cell_type": "code",
      "source": [
        "pip install -U scikit-fuzzy"
      ],
      "metadata": {
        "colab": {
          "base_uri": "https://localhost:8080/"
        },
        "id": "c6UMTKxzfm2Y",
        "outputId": "a523a26c-5f75-4b2e-9e27-8decf20a673e"
      },
      "execution_count": null,
      "outputs": [
        {
          "output_type": "stream",
          "name": "stdout",
          "text": [
            "Looking in indexes: https://pypi.org/simple, https://us-python.pkg.dev/colab-wheels/public/simple/\n",
            "Collecting scikit-fuzzy\n",
            "  Downloading scikit-fuzzy-0.4.2.tar.gz (993 kB)\n",
            "\u001b[2K     \u001b[90m━━━━━━━━━━━━━━━━━━━━━━━━━━━━━━━━━━━━━━\u001b[0m \u001b[32m994.0/994.0 KB\u001b[0m \u001b[31m20.9 MB/s\u001b[0m eta \u001b[36m0:00:00\u001b[0m\n",
            "\u001b[?25h  Preparing metadata (setup.py) ... \u001b[?25l\u001b[?25hdone\n",
            "Requirement already satisfied: numpy>=1.6.0 in /usr/local/lib/python3.8/dist-packages (from scikit-fuzzy) (1.21.6)\n",
            "Requirement already satisfied: scipy>=0.9.0 in /usr/local/lib/python3.8/dist-packages (from scikit-fuzzy) (1.7.3)\n",
            "Requirement already satisfied: networkx>=1.9.0 in /usr/local/lib/python3.8/dist-packages (from scikit-fuzzy) (3.0)\n",
            "Building wheels for collected packages: scikit-fuzzy\n",
            "  Building wheel for scikit-fuzzy (setup.py) ... \u001b[?25l\u001b[?25hdone\n",
            "  Created wheel for scikit-fuzzy: filename=scikit_fuzzy-0.4.2-py3-none-any.whl size=894088 sha256=328874cec00731092a29bbd32d483a6eaa25b571dc8602d299c948b0dc8e410a\n",
            "  Stored in directory: /root/.cache/pip/wheels/2c/04/80/7eefb1a2de7d36aefd06432fab2a1486caf0a0596a7067391a\n",
            "Successfully built scikit-fuzzy\n",
            "Installing collected packages: scikit-fuzzy\n",
            "Successfully installed scikit-fuzzy-0.4.2\n"
          ]
        }
      ]
    },
    {
      "cell_type": "code",
      "source": [
        "import numpy as np\n",
        "import skfuzzy as fuzz\n",
        "from skfuzzy import control as ctrl"
      ],
      "metadata": {
        "id": "oIVfvU3zftU-"
      },
      "execution_count": null,
      "outputs": []
    },
    {
      "cell_type": "code",
      "source": [
        "#Initiate range for each input and output\n",
        "\n",
        "vehicle_per_minute= np.arange(0,40,1)\n",
        "green_time_second = np.arange(0,120,1)\n",
        "vehicle_average_waiting_time_second = np.arange(0,20,1)\n"
      ],
      "metadata": {
        "id": "w5QA0TTJfylX"
      },
      "execution_count": null,
      "outputs": []
    },
    {
      "cell_type": "code",
      "source": [
        "#Create fuzzy membership for each input/output with its respective linguistic terms\n",
        "\n",
        "low_average_vpm = fuzz.trapmf(vehicle_per_minute, [0,0,5,10])\n",
        "medium_average_vpm = fuzz.trapmf(vehicle_per_minute, [5,10,15,20])\n",
        "high_average_vpm = fuzz.trapmf(vehicle_per_minute, [15,20,40,40])\n",
        "\n",
        "low_average_vwt = fuzz.trapmf(vehicle_average_waiting_time_second, [0,0,8,10])\n",
        "medium_average_vwt = fuzz.trapmf(vehicle_average_waiting_time_second, [8,10,12,14])\n",
        "high_average_vwt = fuzz.trapmf(vehicle_average_waiting_time_second,[12,14,20,20])\n",
        "\n",
        "short_green_time = fuzz.trapmf(green_time_second, [15,15,30,45])\n",
        "medium_green_time = fuzz.trapmf(green_time_second, [30,45,60,75])\n",
        "long_green_time = fuzz.trapmf(green_time_second, [60,75,120,120])"
      ],
      "metadata": {
        "id": "NVwBGz8zf2kl"
      },
      "execution_count": null,
      "outputs": []
    },
    {
      "cell_type": "code",
      "source": [
        "#Plotting Average vehicles per minute membership functions\n",
        "\n",
        "plt.plot(vehicle_per_minute,low_average_vpm,'r',linewidth=2,label=\"Low Average VPM\")\n",
        "plt.plot(vehicle_per_minute,medium_average_vpm,'b',linewidth=2,label=\"Medium Average VPM\")\n",
        "plt.plot(vehicle_per_minute,high_average_vpm,'y',linewidth=2,label=\"High Average VPM\")\n",
        "plt.legend()\n",
        "\n"
      ],
      "metadata": {
        "colab": {
          "base_uri": "https://localhost:8080/",
          "height": 282
        },
        "id": "fQNVlSrKgDO7",
        "outputId": "605bd77b-44ef-42fc-904a-a696d00dc360"
      },
      "execution_count": null,
      "outputs": [
        {
          "output_type": "execute_result",
          "data": {
            "text/plain": [
              "<matplotlib.legend.Legend at 0x7fd7f34cecd0>"
            ]
          },
          "metadata": {},
          "execution_count": 27
        },
        {
          "output_type": "display_data",
          "data": {
            "text/plain": [
              "<Figure size 432x288 with 1 Axes>"
            ],
            "image/png": "[encoded data removed]"
          },
          "metadata": {
            "needs_background": "light"
          }
        }
      ]
    },
    {
      "cell_type": "code",
      "source": [
        "#Plotting average vehicles waiting time membership functions\n",
        "\n",
        "plt.plot(vehicle_average_waiting_time_second,low_average_vwt,'b',linewidth=2,label=\"Low Average VWT\")\n",
        "plt.plot(vehicle_average_waiting_time_second,medium_average_vwt,'r',linewidth=2,label=\"Medium Average VWT\")\n",
        "plt.plot(vehicle_average_waiting_time_second,high_average_vwt,'g',linewidth=2,label=\"High Average VWT\")\n",
        "plt.legend()"
      ],
      "metadata": {
        "colab": {
          "base_uri": "https://localhost:8080/",
          "height": 282
        },
        "id": "INRbCo60lmgA",
        "outputId": "e18b5947-e9c2-4ac8-8edb-d0c2ce66508a"
      },
      "execution_count": null,
      "outputs": [
        {
          "output_type": "execute_result",
          "data": {
            "text/plain": [
              "<matplotlib.legend.Legend at 0x7fd7f343bfd0>"
            ]
          },
          "metadata": {},
          "execution_count": 28
        },
        {
          "output_type": "display_data",
          "data": {
            "text/plain": [
              "<Figure size 432x288 with 1 Axes>"
            ],
            "image/png": "[encoded data removed]"
          },
          "metadata": {
            "needs_background": "light"
          }
        }
      ]
    },
    {
      "cell_type": "code",
      "source": [
        "#Plotting green traffic time membership functions\n",
        "\n",
        "plt.plot(short_green_time,'r',linewidth=2,label=\"ShortGreen time\")\n",
        "plt.plot(medium_green_time,'b',linewidth=2,label=\"Green Medium time\")\n",
        "plt.plot(long_green_time,'y',linewidth=2,label=\"Long Green time\")\n",
        "plt.legend()\n",
        "plt.xlim(xmin=15)"
      ],
      "metadata": {
        "colab": {
          "base_uri": "https://localhost:8080/",
          "height": 282
        },
        "id": "u4VKefa3eAaL",
        "outputId": "83838e68-e452-4418-85dd-d896955943c1"
      },
      "execution_count": null,
      "outputs": [
        {
          "output_type": "execute_result",
          "data": {
            "text/plain": [
              "(15.0, 124.95)"
            ]
          },
          "metadata": {},
          "execution_count": 29
        },
        {
          "output_type": "display_data",
          "data": {
            "text/plain": [
              "<Figure size 432x288 with 1 Axes>"
            ],
            "image/png": "[encoded data removed]"
          },
          "metadata": {
            "needs_background": "light"
          }
        }
      ]
    },
    {
      "cell_type": "code",
      "source": [
        "def mamdani_traffic_light(vpm,vwt):\n",
        "\n",
        "  #Intepreting the membership function\n",
        "\n",
        "  is_more_car = fuzz.interp_membership(vehicle_per_minute,high_average_vpm,vpm)\n",
        "  is_wait_long = fuzz.interp_membership(vehicle_average_waiting_time_second,high_average_vwt,vwt)\n",
        "\n",
        "  is_less_car = fuzz.interp_membership(vehicle_per_minute,low_average_vpm,vpm)\n",
        "  is_wait_short = fuzz.interp_membership(vehicle_average_waiting_time_second,low_average_vwt,vwt)\n",
        "\n",
        "  is_average_car = fuzz.interp_membership(vehicle_per_minute,medium_average_vpm,vpm)\n",
        "  is_average_wait = fuzz.interp_membership(vehicle_average_waiting_time_second,medium_average_vwt,vwt)\n",
        "\n",
        "  # Rule 1: If vpm high and vwt high, then traffic is heavy\n",
        "  fire_rule_1 = min(is_wait_long,is_more_car)\n",
        "  r1_out = np.fmin(fire_rule_1,long_green_time)\n",
        "\n",
        "  # Rule 2: If vpm high and vwt medium, then traffic is heavy\n",
        "  fire_rule_2 = min(is_average_wait,is_more_car)\n",
        "  r2_out = np.fmin(fire_rule_2,long_green_time)\n",
        "\n",
        "  # Rule 3: If vpm high and vwt low, then traffic is medium\n",
        "  fire_rule_3 = min(is_wait_long,is_less_car)\n",
        "  r3_out = np.fmin(fire_rule_3,medium_green_time)\n",
        "\n",
        "  # Rule 4: If vpm low and vwt low, then traffic is short\n",
        "  fire_rule_4 = min(is_less_car,is_wait_short)\n",
        "  r4_out = np.fmin(fire_rule_4,short_green_time)\n",
        "\n",
        "  # Rule 5: If vpm low and vwt medium, then traffic is short\n",
        "  fire_rule_5 = min(is_less_car,is_average_wait)\n",
        "  r5_out = np.fmin(fire_rule_5,short_green_time)\n",
        "\n",
        "  # Rule 6: If vpm low and vwt high, then traffic is long\n",
        "  fire_rule_6 = min(is_less_car,is_wait_long)\n",
        "  r6_out = np.fmin(fire_rule_6,long_green_time)\n",
        "\n",
        "  # Rule 7: If vpm medium and vwt medium, then traffic is medium\n",
        "\n",
        "  fire_rule_7 = min(is_average_car,is_average_wait)\n",
        "  r7_out = np.fmin(fire_rule_7,medium_green_time)\n",
        "\n",
        "  # Rule 8: If vpm medium and vwt low, then traffic is short\n",
        "\n",
        "  fire_rule_8 = min(is_average_car,is_wait_short)\n",
        "  r8_out = np.fmin(fire_rule_8,short_green_time)\n",
        "\n",
        "  # Rule 9: If vpm medium and vwt high, then traffic is high\n",
        "\n",
        "  fire_rule_9 = min(is_average_car,is_wait_long)\n",
        "  r9_out = np.fmin(fire_rule_9,long_green_time)\n",
        "\n",
        "\n",
        "  fuz_out = np.fmax(r1_out,r2_out)\n",
        "  fuz_out = np.fmax(fuz_out,r3_out)\n",
        "  fuz_out = np.fmax(fuz_out,r4_out)\n",
        "  fuz_out = np.fmax(fuz_out,r5_out)\n",
        "  fuz_out = np.fmax(fuz_out,r6_out)\n",
        "  fuz_out = np.fmax(fuz_out,r7_out)\n",
        "  fuz_out = np.fmax(fuz_out,r8_out)\n",
        "  fuz_out = np.fmax(fuz_out,r9_out)\n",
        "\n",
        "\n",
        "  #defuzzification using mean of maxima\n",
        "\n",
        "  time_green_light=fuzz.defuzz(green_time_second,fuz_out,\"mom\")\n",
        "  return time_green_light\n",
        "\n",
        "\n",
        "\n",
        "\n",
        "\n"
      ],
      "metadata": {
        "id": "duOuRSk3lx0D"
      },
      "execution_count": null,
      "outputs": []
    },
    {
      "cell_type": "code",
      "source": [
        "#input is light traffic\n",
        "output = mamdani_traffic_light(5,10)\n",
        "print(\"When average vehicle per minute is 15 and average waiting time is 12, The traffic light time is  \",output)"
      ],
      "metadata": {
        "colab": {
          "base_uri": "https://localhost:8080/"
        },
        "id": "IuupS9bXtif2",
        "outputId": "a80ec58e-fd4b-43fa-c1f8-76343bb0c94b"
      },
      "execution_count": null,
      "outputs": [
        {
          "output_type": "stream",
          "name": "stdout",
          "text": [
            "When average vehicle per minute is 15 and average waiting time is 12, The traffic light time is   22.5\n"
          ]
        }
      ]
    },
    {
      "cell_type": "code",
      "source": [
        "#input is heavy traffic\n",
        "output = mamdani_traffic_light(20,12)\n",
        "print(\"When average vehicle per minute is 60 and average waiting time is 15, The traffic light time is \",output)"
      ],
      "metadata": {
        "colab": {
          "base_uri": "https://localhost:8080/"
        },
        "id": "xJwLkf5HuEZJ",
        "outputId": "7fe55684-fc6c-4049-e1fb-a71361548ec2"
      },
      "execution_count": null,
      "outputs": [
        {
          "output_type": "stream",
          "name": "stdout",
          "text": [
            "When average vehicle per minute is 60 and average waiting time is 15, The traffic light time is  97.0\n"
          ]
        }
      ]
    }
  ],
  "metadata": {
    "anaconda-cloud": {},
    "kernelspec": {
      "display_name": "Python 3",
      "language": "python",
      "name": "python3"
    },
    "language_info": {
      "codemirror_mode": {
        "name": "ipython",
        "version": 3
      },
      "file_extension": ".py",
      "mimetype": "text/x-python",
      "name": "python",
      "nbconvert_exporter": "python",
      "pygments_lexer": "ipython3",
      "version": "3.5.1"
    },
    "colab": {
      "provenance": []
    },
    "gpuClass": "standard"
  },
  "nbformat": 4,
  "nbformat_minor": 0
}