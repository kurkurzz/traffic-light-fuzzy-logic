{
 "cells": [
  {
   "cell_type": "code",
   "execution_count": 1,
   "id": "12a11d3a",
   "metadata": {},
   "outputs": [],
   "source": [
    "import traci\n",
    "import traci.constants as tc\n",
    "import os\n",
    "import sys\n",
    "import time"
   ]
  },
  {
   "cell_type": "code",
   "execution_count": 2,
   "id": "3096a131",
   "metadata": {},
   "outputs": [],
   "source": [
    "if 'SUMO_HOME' in os.environ:\n",
    "    tools = os.path.join(os.environ['SUMO_HOME'], 'tools')\n",
    "    sys.path.append(tools)\n",
    "else:\n",
    "    sys.exit(\"please declare environment variable 'SUMO_HOME'\")"
   ]
  },
  {
   "cell_type": "code",
   "execution_count": 3,
   "id": "690ddae8",
   "metadata": {},
   "outputs": [],
   "source": [
    "sumo_binary = r'C:\\Program Files (x86)\\Eclipse\\Sumo\\bin\\sumo-gui'\n",
    "sumo_cmd = [sumo_binary, '-c', 'traffic.sumocfg']"
   ]
  },
  {
   "cell_type": "code",
   "execution_count": 53,
   "id": "8e2f595f",
   "metadata": {},
   "outputs": [],
   "source": [
    "traci.close()"
   ]
  },
  {
   "cell_type": "code",
   "execution_count": 54,
   "id": "01539b3d",
   "metadata": {},
   "outputs": [
    {
     "data": {
      "text/plain": [
       "(20, 'SUMO 1.15.0')"
      ]
     },
     "execution_count": 54,
     "metadata": {},
     "output_type": "execute_result"
    }
   ],
   "source": [
    "traci.start(sumo_cmd)"
   ]
  },
  {
   "cell_type": "code",
   "execution_count": 6,
   "id": "460700ae",
   "metadata": {},
   "outputs": [],
   "source": [
    "def group_lanes_flow(lanes):\n",
    "    flow_lanes = {}\n",
    "    for lane in lanes:\n",
    "        flow_id_length = 2\n",
    "        if lane[0] == '-':\n",
    "            flow_id_length = 3\n",
    "        \n",
    "        if not lane[:flow_id_length] in flow_lanes:\n",
    "            flow_lanes[lane[:flow_id_length]] = {\n",
    "                'lanes': [lane]\n",
    "            }\n",
    "        else:\n",
    "            flow_lanes[lane[:flow_id_length]]['lanes'].append(lane)\n",
    "\n",
    "    return flow_lanes"
   ]
  },
  {
   "cell_type": "code",
   "execution_count": 7,
   "id": "acc5e6e4",
   "metadata": {},
   "outputs": [],
   "source": [
    "def get_vehicle_list(flow):\n",
    "    flow_vehicle_list = []\n",
    "    for lane in flow['lanes']:\n",
    "        vehicle_list = traci.lane.getLastStepVehicleIDs(lane)\n",
    "        flow_vehicle_list.extend(vehicle_list)\n",
    "        \n",
    "    return flow_vehicle_list"
   ]
  },
  {
   "cell_type": "code",
   "execution_count": 8,
   "id": "0bfa5299",
   "metadata": {},
   "outputs": [],
   "source": [
    "def count_vehicle_per_flow(flow):\n",
    "    total_vehicle = 0\n",
    "    for lane in flow['lanes']:\n",
    "        total_vehicle += traci.lane.getLastStepVehicleNumber(lane)\n",
    "        \n",
    "    return total_vehicle"
   ]
  },
  {
   "cell_type": "code",
   "execution_count": 9,
   "id": "0c532d2c",
   "metadata": {},
   "outputs": [],
   "source": [
    "# input: {'vehicle_id': waiting_time(int)}\n",
    "def calc_vehicle_waiting_time(vehicle_list_dict, vehicle_on_simulation):\n",
    "    for vehicle in vehicle_list_dict:\n",
    "        if vehicle in vehicle_on_simulation:\n",
    "            waiting_time = traci.vehicle.getAccumulatedWaitingTime(vehicle)\n",
    "            vehicle_list_dict[vehicle] = max(vehicle_list_dict[vehicle], waiting_time)\n",
    "            \n",
    "    return vehicle_list_dict"
   ]
  },
  {
   "cell_type": "code",
   "execution_count": 10,
   "id": "929b7d0a",
   "metadata": {},
   "outputs": [],
   "source": [
    "def calc_flow_stats(flow, num_minute):\n",
    "#     avg_vehicle_per_minute = len(flow['vehicle_list'])\n",
    "    total_vehicle = len(flow['vehicle_list'])\n",
    "    total_waiting_time = 0\n",
    "    count_wait_vehicle = 0\n",
    "    for vehicle in flow['vehicle_list']:\n",
    "        total_waiting_time += flow['vehicle_list'][vehicle]\n",
    "        if flow['vehicle_list'][vehicle] > 0:\n",
    "            count_wait_vehicle += 1\n",
    "    avg_vehicle_waiting_time_all = total_waiting_time/total_vehicle\n",
    "    avg_vehicle_waiting_time = total_waiting_time/count_wait_vehicle\n",
    "    \n",
    "    return {\n",
    "        'total_vehicle': total_vehicle,\n",
    "        'average_vehicle_per_minute': total_vehicle/num_minute,\n",
    "        \n",
    "        'total_waiting_time': total_waiting_time,\n",
    "        'average_vehicle_waiting_time_all': avg_vehicle_waiting_time_all,\n",
    "        'average_vehicle_waiting_time': avg_vehicle_waiting_time\n",
    "    }"
   ]
  },
  {
   "cell_type": "code",
   "execution_count": 11,
   "id": "8d0f9ad1",
   "metadata": {},
   "outputs": [],
   "source": [
    "def get_queue_lenght(flow):\n",
    "    max_vehicle_stop_length = 0\n",
    "    for lane in flow['lanes']:\n",
    "        max_vehicle_stop_length = max(max_vehicle_stop_length, traci.lane.getLastStepHaltingNumber(lane))\n",
    "        \n",
    "    return max_vehicle_stop_length"
   ]
  },
  {
   "cell_type": "markdown",
   "id": "424a540a",
   "metadata": {},
   "source": [
    "## read traffic condition"
   ]
  },
  {
   "cell_type": "code",
   "execution_count": 13,
   "id": "2562b155",
   "metadata": {},
   "outputs": [],
   "source": [
    "tf_id = traci.trafficlight.getIDList()[0]\n",
    "lanes = traci.trafficlight.getControlledLanes(tf_id)\n",
    "# remove duplicates\n",
    "lanes = list(dict.fromkeys(lanes))\n",
    "# group lanes into same flow\n",
    "flow_lanes = group_lanes_flow(lanes)\n",
    "for flow in flow_lanes:\n",
    "    # create vehicle_list key if not exist yet\n",
    "    if 'vehicle_list' not in flow_lanes[flow]:\n",
    "        flow_lanes[flow]['vehicle_list'] = {}\n",
    "\n",
    "    # identify list of vehicles currently (current step) on the lanes\n",
    "    new_vehicle_list = get_vehicle_list(flow_lanes[flow])\n",
    "    # identify list of vehicles that already in the dict\n",
    "    exisiting_vehicle_list = list(flow_lanes[flow]['vehicle_list'].keys())\n",
    "    # new vehicle to add\n",
    "    new_vehicle_to_add = list(set(new_vehicle_list).difference(set(exisiting_vehicle_list)))\n",
    "    # add new vehicles (that does not exist in the dict yet) into the dict with initial waiting time value of 0\n",
    "    flow_lanes[flow]['vehicle_list'] = dict(list(flow_lanes[flow]['vehicle_list'].items()) + list(dict.fromkeys(new_vehicle_to_add, 0.0).items())) \n",
    "    # calculate waiting time for all vehicle in list\n",
    "    vehicle_on_simulation = traci.vehicle.getIDList()\n",
    "    flow_lanes[flow]['vehicle_list'] = calc_vehicle_waiting_time(flow_lanes[flow]['vehicle_list'], vehicle_on_simulation)\n",
    "    \n",
    "    "
   ]
  },
  {
   "cell_type": "code",
   "execution_count": 55,
   "id": "dce06c17",
   "metadata": {},
   "outputs": [
    {
     "name": "stdout",
     "output_type": "stream",
     "text": [
      "Phase(duration=42.0, state='GGGGgrrrrrGGGGgrrrrr', minDur=42.0, maxDur=42.0, next=())\n",
      "\n",
      "Phase(duration=3.0, state='yyyyyrrrrryyyyyrrrrr', minDur=3.0, maxDur=3.0, next=())\n",
      "\n",
      "Phase(duration=42.0, state='rrrrrGGGGgrrrrrGGGGg', minDur=42.0, maxDur=42.0, next=())\n",
      "\n",
      "Phase(duration=3.0, state='rrrrryyyyyrrrrryyyyy', minDur=3.0, maxDur=3.0, next=())\n",
      "\n"
     ]
    }
   ],
   "source": [
    "print(traci.trafficlight.getAllProgramLogics(tf_id)[0].phases[0])\n",
    "print()\n",
    "print(traci.trafficlight.getAllProgramLogics(tf_id)[0].phases[1])\n",
    "print()\n",
    "print(traci.trafficlight.getAllProgramLogics(tf_id)[0].phases[2])\n",
    "print()\n",
    "print(traci.trafficlight.getAllProgramLogics(tf_id)[0].phases[3])\n",
    "print()"
   ]
  },
  {
   "cell_type": "markdown",
   "id": "b959ce6c",
   "metadata": {},
   "source": [
    "## Run the simulation"
   ]
  },
  {
   "cell_type": "code",
   "execution_count": null,
   "id": "7cda660f",
   "metadata": {},
   "outputs": [],
   "source": [
    "# run without value retrieval\n",
    "step = 0\n",
    "while step < 100:\n",
    "    traci.simulationStep()\n",
    "    lanes = traci.trafficlight.getControlledLanes('J3')\n",
    "    step += 1\n",
    "    time.sleep(0.0)"
   ]
  },
  {
   "cell_type": "code",
   "execution_count": 56,
   "id": "2dc83934",
   "metadata": {},
   "outputs": [],
   "source": [
    "# run this with value retrieval!\n",
    "tf_id = traci.trafficlight.getIDList()[0]\n",
    "lanes = traci.trafficlight.getControlledLanes(tf_id)\n",
    "# remove duplicates\n",
    "lanes = list(dict.fromkeys(lanes))\n",
    "# group lanes into same flow\n",
    "flow_lanes = group_lanes_flow(lanes)\n",
    "step = 0\n",
    "max_vehicle_stop_length = 0\n",
    "# run it for 15 minutes\n",
    "while step < 901:\n",
    "    traci.simulationStep()\n",
    "    lanes = traci.trafficlight.getControlledLanes(tf_id)\n",
    "    step += 1\n",
    "    \n",
    "    for flow in flow_lanes:\n",
    "        # create vehicle_list key if not exist yet\n",
    "        if 'vehicle_list' not in flow_lanes[flow]:\n",
    "            flow_lanes[flow]['vehicle_list'] = {}\n",
    "        \n",
    "        max_vehicle_stop_length = max(max_vehicle_stop_length, get_queue_lenght(flow_lanes[flow]))\n",
    "        \n",
    "        # identify list of vehicles currently (current step) on the lanes\n",
    "        new_vehicle_list = get_vehicle_list(flow_lanes[flow])\n",
    "        # identify list of vehicles that already in the dict\n",
    "        exisiting_vehicle_list = list(flow_lanes[flow]['vehicle_list'].keys())\n",
    "        # new vehicle to add\n",
    "        new_vehicle_to_add = list(set(new_vehicle_list).difference(set(exisiting_vehicle_list)))\n",
    "        # add new vehicles (that does not exist in the dict yet) into the dict with initial waiting time value of 0\n",
    "        flow_lanes[flow]['vehicle_list'] = dict(list(flow_lanes[flow]['vehicle_list'].items()) + list(dict.fromkeys(new_vehicle_to_add, 0.0).items())) \n",
    "        # calculate waiting time for all vehicle in list\n",
    "        vehicle_on_simulation = traci.vehicle.getIDList()\n",
    "        flow_lanes[flow]['vehicle_list'] = calc_vehicle_waiting_time(flow_lanes[flow]['vehicle_list'], vehicle_on_simulation)\n",
    "    \n",
    "#     if step % 10 == 0:\n",
    "#         print(flow_lanes['E0'])\n",
    "    time.sleep(0)"
   ]
  },
  {
   "cell_type": "code",
   "execution_count": 34,
   "id": "5cb9debb",
   "metadata": {},
   "outputs": [],
   "source": [
    "def calculate_overall_waiting_time(flow_lanes):\n",
    "    total_vehicle = 0\n",
    "    total_waiting_time = 0\n",
    "    for flow_key in list(flow_lanes.keys()):\n",
    "        vehicle_dict = flow_lanes[flow_key]['vehicle_list']\n",
    "        for vehicle_key in list(vehicle_dict.keys()):\n",
    "            total_vehicle += 1\n",
    "            total_waiting_time += vehicle_dict[vehicle_key]\n",
    "    \n",
    "    average_waiting_time = total_waiting_time/total_vehicle\n",
    "    return average_waiting_time"
   ]
  },
  {
   "cell_type": "code",
   "execution_count": 57,
   "id": "a9d414d8",
   "metadata": {},
   "outputs": [
    {
     "name": "stdout",
     "output_type": "stream",
     "text": [
      "Overall traffic average waiting time: 11.810596026490066\n",
      "Maximum vehicle waiting length: 7\n"
     ]
    }
   ],
   "source": [
    "print(f'Overall traffic average waiting time: {calculate_overall_waiting_time(flow_lanes)}')\n",
    "print(f'Maximum vehicle waiting length: {max_vehicle_stop_length}')"
   ]
  },
  {
   "cell_type": "code",
   "execution_count": 47,
   "id": "2fb8e5a9",
   "metadata": {},
   "outputs": [
    {
     "name": "stdout",
     "output_type": "stream",
     "text": [
      "E0\n",
      "average vehicle per minute: 5.07\n",
      "average vehicle waiting time: 10.79\n",
      "\n",
      "E2\n",
      "average vehicle per minute: 20.07\n",
      "average vehicle waiting time: 12.11\n",
      "\n"
     ]
    }
   ],
   "source": [
    "for index, flow in enumerate(flow_lanes):\n",
    "    stats = calc_flow_stats(flow_lanes[flow], 15)\n",
    "    print(flow)\n",
    "    print(f'average vehicle per minute: {stats[\"average_vehicle_per_minute\"]:.2f}')\n",
    "    print(f'average vehicle waiting time: {stats[\"average_vehicle_waiting_time_all\"]:.2f}')\n",
    "    print()\n",
    "    if index > 0:\n",
    "        break"
   ]
  },
  {
   "cell_type": "markdown",
   "id": "ae5680ec",
   "metadata": {},
   "source": [
    "## List of element in Traci\n",
    "- gui\n",
    "- lane\n",
    "- poi\n",
    "- simulation\n",
    "- trafficlight\n",
    "- vehicletype\n",
    "- edge\n",
    "- inductionloop\n",
    "- junction\n",
    "- multientryexit\n",
    "- polygon\n",
    "- route\n",
    "- person\n",
    "- vehicle"
   ]
  },
  {
   "cell_type": "code",
   "execution_count": 104,
   "id": "f3a139c8",
   "metadata": {},
   "outputs": [
    {
     "data": {
      "text/plain": [
       "'rrrrGGGGgrrrrGGGGg'"
      ]
     },
     "execution_count": 104,
     "metadata": {},
     "output_type": "execute_result"
    }
   ],
   "source": [
    "traci.trafficlight.getRedYellowGreenState(tf_id)"
   ]
  },
  {
   "cell_type": "code",
   "execution_count": 25,
   "id": "829c6d59",
   "metadata": {},
   "outputs": [
    {
     "data": {
      "text/plain": [
       "Logic(programID='0', type=0, currentPhaseIndex=0, phases=(Phase(duration=42.0, state='GGGGgrrrrrGGGGgrrrrr', minDur=42.0, maxDur=42.0, next=()), Phase(duration=3.0, state='yyyyyrrrrryyyyyrrrrr', minDur=3.0, maxDur=3.0, next=()), Phase(duration=42.0, state='rrrrrGGGGgrrrrrGGGGg', minDur=42.0, maxDur=42.0, next=()), Phase(duration=3.0, state='rrrrryyyyyrrrrryyyyy', minDur=3.0, maxDur=3.0, next=())), subParameter={})"
      ]
     },
     "execution_count": 25,
     "metadata": {},
     "output_type": "execute_result"
    }
   ],
   "source": [
    "traci.trafficlight.getAllProgramLogics(tf_id)[0]"
   ]
  }
 ],
 "metadata": {
  "kernelspec": {
   "display_name": "Python 3 (ipykernel)",
   "language": "python",
   "name": "python3"
  },
  "language_info": {
   "codemirror_mode": {
    "name": "ipython",
    "version": 3
   },
   "file_extension": ".py",
   "mimetype": "text/x-python",
   "name": "python",
   "nbconvert_exporter": "python",
   "pygments_lexer": "ipython3",
   "version": "3.8.10"
  }
 },
 "nbformat": 4,
 "nbformat_minor": 5
}
